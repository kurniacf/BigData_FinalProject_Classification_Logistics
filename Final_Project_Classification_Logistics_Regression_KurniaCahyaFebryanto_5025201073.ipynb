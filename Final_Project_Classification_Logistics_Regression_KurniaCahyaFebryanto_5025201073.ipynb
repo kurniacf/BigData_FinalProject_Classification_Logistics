{
  "nbformat": 4,
  "nbformat_minor": 0,
  "metadata": {
    "colab": {
      "provenance": [],
      "toc_visible": true,
      "authorship_tag": "ABX9TyNUWXv5lJ2U0JtfzTfyFA0B"
    },
    "kernelspec": {
      "name": "python3",
      "display_name": "Python 3"
    },
    "language_info": {
      "name": "python"
    }
  },
  "cells": [
    {
      "cell_type": "markdown",
      "source": [
        "# Final Project Big Data - Classification\n",
        "\n",
        "### Apache Spark with logistic regression Algorithm\n",
        "\n",
        "- Name: Kurnia Cahya Febryanto\n",
        "- Student ID: 5025201073\n",
        "- Class: Big Data A"
      ],
      "metadata": {
        "id": "XB_LOzHUx7PD"
      }
    },
    {
      "cell_type": "markdown",
      "source": [
        "## Table of Contents\n",
        "1. [Dataset Description](#dataset-description)\n",
        "   - [Source of the Dataset](#source-of-the-dataset)\n",
        "   - [Description of the Dataset](#description-of-the-dataset)\n",
        "2. [Data Acquisition](#data-acquisition)\n",
        "   - [Setting Up Kaggle API](#setting-up-kaggle-api)\n",
        "   - [Downloading Dataset](#downloading-dataset)\n",
        "3. [Setting Up the Environment](#setting-up-the-environment)\n",
        "   - [Installation of Dependencies](#installation-of-dependencies)\n",
        "   - [Setting Up Apache Spark](#setting-up-apache-spark)\n",
        "4. [Data Loading and Exploration](#data-loading-and-exploration)\n",
        "   - [Loading Dataset into Spark DataFrame](#loading-dataset-into-spark-dataframe)\n",
        "   - [Initial Data Exploration](#initial-data-exploration)\n",
        "5. [Data Preprocessing](#data-preprocessing)\n",
        "   - [Handling Missing Values](#handling-missing-values)\n",
        "   - [Feature Scaling/Normalization](#feature-scalingnormalization)\n",
        "6. [Feature Engineering](#feature-engineering)\n",
        "   - [Feature Selection](#feature-selection)\n",
        "   - [Feature Preparation](#feature-preparation)\n",
        "7. [Model Building](#model-building)\n",
        "   - [Choice of Classification Algorithm](#choice-of-classification-algorithm)\n",
        "   - [Reason for Choosing the Algorithm](#reason-for-choosing-the-algorithm)\n",
        "8. [Parameter Tuning](#parameter-tuning)\n",
        "   - [Initial Model Training](#initial-model-training)\n",
        "   - [Hyperparameter Tuning](#hyperparameter-tuning)\n",
        "   - [Retraining Model with Optimized Parameters](#retraining-model-with-optimized-parameters)\n",
        "9. [Model Evaluation](#model-evaluation)\n",
        "   - [Accuracy](#accuracy)\n",
        "   - [Confusion Matrix](#confusion-matrix)\n",
        "   - [Precision, Recall, and F1 Score](#precision-recall-f1-score)\n",
        "10. [Visualization](#visualization)\n",
        "    - [Data Visualization during Preprocessing](#data-visualization-during-preprocessing)\n",
        "    - [Data Visualization during Evaluation](#data-visualization-during-evaluation)\n",
        "11. [Conclusion](#conclusion)\n",
        "12. [References](#references)"
      ],
      "metadata": {
        "id": "KJBe5Bp4x-dx"
      }
    },
    {
      "cell_type": "markdown",
      "source": [
        "## Dataset Description <a name=\"dataset-description\"></a>"
      ],
      "metadata": {
        "id": "BdXU0iAW114A"
      }
    },
    {
      "cell_type": "markdown",
      "source": [
        "### Source of the Dataset <a name=\"source-of-the-dataset\"></a>"
      ],
      "metadata": {
        "id": "hRnnMIfH8H9f"
      }
    },
    {
      "cell_type": "markdown",
      "source": [
        "The dataset used in this project is obtained from Kaggle. It is the \"Hotel Reservations Classification Dataset\" and can be found at [Hotel Reservation Dataset](https://www.kaggle.com/ahsan81/hotel-reservations-classification-dataset).\n"
      ],
      "metadata": {
        "id": "OUjaeNMG8Jmk"
      }
    },
    {
      "cell_type": "markdown",
      "source": [
        "### Description of the Dataset <a name=\"description-of-the-dataset\"></a>"
      ],
      "metadata": {
        "id": "OJo0vF8D8OtS"
      }
    },
    {
      "cell_type": "markdown",
      "source": [
        "The `Hotel Reservations Classification Dataset` provides data pertaining to hotel reservations, which includes a variety of factors such as booking changes, deposit type, days in waiting list, and other customer details.\n",
        "\n",
        "With the advent of online hotel reservation channels, booking behaviors of customers have significantly evolved. However, a substantial number of these reservations get cancelled or result in no-shows due to various reasons like change of plans or scheduling conflicts. While the option to cancel free of charge or at a low cost is advantageous for hotel guests, it often results in potential revenue loss for hotels.\n",
        "\n",
        "Therefore, the objective of this project is to use this dataset to build a machine learning model that can predict whether a hotel booking will be cancelled or not. This information can potentially help hotels in better managing their resources and maximizing their revenues."
      ],
      "metadata": {
        "id": "PLI3jmBk8Qab"
      }
    },
    {
      "cell_type": "markdown",
      "source": [
        "## Data Acquisition <a name=\"data-acquisition\"></a>"
      ],
      "metadata": {
        "id": "YBO-oh8C8nNm"
      }
    },
    {
      "cell_type": "markdown",
      "source": [
        "### Setting Up Kaggle API <a name=\"setting-up-kaggle-api\"></a>"
      ],
      "metadata": {
        "id": "mrBFlA1Z8t4r"
      }
    },
    {
      "cell_type": "markdown",
      "source": [
        "To utilize Kaggle's datasets directly, we need to setup Kaggle API. You can download your kaggle.json file\n",
        "from your Kaggle account settings page. The kaggle.json file is a token that connects the API to your account.\n",
        "\n",
        "Steps to upload kaggle.json in Google Colab:\n",
        "1. Run the code cell below.\n",
        "2. A `Choose Files` button will appear. Click on it.\n",
        "3. Navigate to the location of your kaggle.json file and select it."
      ],
      "metadata": {
        "id": "wYlXPHcI9DJR"
      }
    },
    {
      "cell_type": "code",
      "source": [
        "# Import necessary library\n",
        "from google.colab import files"
      ],
      "metadata": {
        "id": "oBmp_kEI9Ea7"
      },
      "execution_count": 2,
      "outputs": []
    },
    {
      "cell_type": "code",
      "execution_count": 99,
      "metadata": {
        "colab": {
          "base_uri": "https://localhost:8080/",
          "height": 92
        },
        "id": "qns_IfEsxyEV",
        "outputId": "85a27ec7-21fa-4ce7-b4ec-46b94443c1d6"
      },
      "outputs": [
        {
          "output_type": "display_data",
          "data": {
            "text/plain": [
              "<IPython.core.display.HTML object>"
            ],
            "text/html": [
              "\n",
              "     <input type=\"file\" id=\"files-0f274381-fdd9-454e-88f4-6f2201458033\" name=\"files[]\" multiple disabled\n",
              "        style=\"border:none\" />\n",
              "     <output id=\"result-0f274381-fdd9-454e-88f4-6f2201458033\">\n",
              "      Upload widget is only available when the cell has been executed in the\n",
              "      current browser session. Please rerun this cell to enable.\n",
              "      </output>\n",
              "      <script>// Copyright 2017 Google LLC\n",
              "//\n",
              "// Licensed under the Apache License, Version 2.0 (the \"License\");\n",
              "// you may not use this file except in compliance with the License.\n",
              "// You may obtain a copy of the License at\n",
              "//\n",
              "//      http://www.apache.org/licenses/LICENSE-2.0\n",
              "//\n",
              "// Unless required by applicable law or agreed to in writing, software\n",
              "// distributed under the License is distributed on an \"AS IS\" BASIS,\n",
              "// WITHOUT WARRANTIES OR CONDITIONS OF ANY KIND, either express or implied.\n",
              "// See the License for the specific language governing permissions and\n",
              "// limitations under the License.\n",
              "\n",
              "/**\n",
              " * @fileoverview Helpers for google.colab Python module.\n",
              " */\n",
              "(function(scope) {\n",
              "function span(text, styleAttributes = {}) {\n",
              "  const element = document.createElement('span');\n",
              "  element.textContent = text;\n",
              "  for (const key of Object.keys(styleAttributes)) {\n",
              "    element.style[key] = styleAttributes[key];\n",
              "  }\n",
              "  return element;\n",
              "}\n",
              "\n",
              "// Max number of bytes which will be uploaded at a time.\n",
              "const MAX_PAYLOAD_SIZE = 100 * 1024;\n",
              "\n",
              "function _uploadFiles(inputId, outputId) {\n",
              "  const steps = uploadFilesStep(inputId, outputId);\n",
              "  const outputElement = document.getElementById(outputId);\n",
              "  // Cache steps on the outputElement to make it available for the next call\n",
              "  // to uploadFilesContinue from Python.\n",
              "  outputElement.steps = steps;\n",
              "\n",
              "  return _uploadFilesContinue(outputId);\n",
              "}\n",
              "\n",
              "// This is roughly an async generator (not supported in the browser yet),\n",
              "// where there are multiple asynchronous steps and the Python side is going\n",
              "// to poll for completion of each step.\n",
              "// This uses a Promise to block the python side on completion of each step,\n",
              "// then passes the result of the previous step as the input to the next step.\n",
              "function _uploadFilesContinue(outputId) {\n",
              "  const outputElement = document.getElementById(outputId);\n",
              "  const steps = outputElement.steps;\n",
              "\n",
              "  const next = steps.next(outputElement.lastPromiseValue);\n",
              "  return Promise.resolve(next.value.promise).then((value) => {\n",
              "    // Cache the last promise value to make it available to the next\n",
              "    // step of the generator.\n",
              "    outputElement.lastPromiseValue = value;\n",
              "    return next.value.response;\n",
              "  });\n",
              "}\n",
              "\n",
              "/**\n",
              " * Generator function which is called between each async step of the upload\n",
              " * process.\n",
              " * @param {string} inputId Element ID of the input file picker element.\n",
              " * @param {string} outputId Element ID of the output display.\n",
              " * @return {!Iterable<!Object>} Iterable of next steps.\n",
              " */\n",
              "function* uploadFilesStep(inputId, outputId) {\n",
              "  const inputElement = document.getElementById(inputId);\n",
              "  inputElement.disabled = false;\n",
              "\n",
              "  const outputElement = document.getElementById(outputId);\n",
              "  outputElement.innerHTML = '';\n",
              "\n",
              "  const pickedPromise = new Promise((resolve) => {\n",
              "    inputElement.addEventListener('change', (e) => {\n",
              "      resolve(e.target.files);\n",
              "    });\n",
              "  });\n",
              "\n",
              "  const cancel = document.createElement('button');\n",
              "  inputElement.parentElement.appendChild(cancel);\n",
              "  cancel.textContent = 'Cancel upload';\n",
              "  const cancelPromise = new Promise((resolve) => {\n",
              "    cancel.onclick = () => {\n",
              "      resolve(null);\n",
              "    };\n",
              "  });\n",
              "\n",
              "  // Wait for the user to pick the files.\n",
              "  const files = yield {\n",
              "    promise: Promise.race([pickedPromise, cancelPromise]),\n",
              "    response: {\n",
              "      action: 'starting',\n",
              "    }\n",
              "  };\n",
              "\n",
              "  cancel.remove();\n",
              "\n",
              "  // Disable the input element since further picks are not allowed.\n",
              "  inputElement.disabled = true;\n",
              "\n",
              "  if (!files) {\n",
              "    return {\n",
              "      response: {\n",
              "        action: 'complete',\n",
              "      }\n",
              "    };\n",
              "  }\n",
              "\n",
              "  for (const file of files) {\n",
              "    const li = document.createElement('li');\n",
              "    li.append(span(file.name, {fontWeight: 'bold'}));\n",
              "    li.append(span(\n",
              "        `(${file.type || 'n/a'}) - ${file.size} bytes, ` +\n",
              "        `last modified: ${\n",
              "            file.lastModifiedDate ? file.lastModifiedDate.toLocaleDateString() :\n",
              "                                    'n/a'} - `));\n",
              "    const percent = span('0% done');\n",
              "    li.appendChild(percent);\n",
              "\n",
              "    outputElement.appendChild(li);\n",
              "\n",
              "    const fileDataPromise = new Promise((resolve) => {\n",
              "      const reader = new FileReader();\n",
              "      reader.onload = (e) => {\n",
              "        resolve(e.target.result);\n",
              "      };\n",
              "      reader.readAsArrayBuffer(file);\n",
              "    });\n",
              "    // Wait for the data to be ready.\n",
              "    let fileData = yield {\n",
              "      promise: fileDataPromise,\n",
              "      response: {\n",
              "        action: 'continue',\n",
              "      }\n",
              "    };\n",
              "\n",
              "    // Use a chunked sending to avoid message size limits. See b/62115660.\n",
              "    let position = 0;\n",
              "    do {\n",
              "      const length = Math.min(fileData.byteLength - position, MAX_PAYLOAD_SIZE);\n",
              "      const chunk = new Uint8Array(fileData, position, length);\n",
              "      position += length;\n",
              "\n",
              "      const base64 = btoa(String.fromCharCode.apply(null, chunk));\n",
              "      yield {\n",
              "        response: {\n",
              "          action: 'append',\n",
              "          file: file.name,\n",
              "          data: base64,\n",
              "        },\n",
              "      };\n",
              "\n",
              "      let percentDone = fileData.byteLength === 0 ?\n",
              "          100 :\n",
              "          Math.round((position / fileData.byteLength) * 100);\n",
              "      percent.textContent = `${percentDone}% done`;\n",
              "\n",
              "    } while (position < fileData.byteLength);\n",
              "  }\n",
              "\n",
              "  // All done.\n",
              "  yield {\n",
              "    response: {\n",
              "      action: 'complete',\n",
              "    }\n",
              "  };\n",
              "}\n",
              "\n",
              "scope.google = scope.google || {};\n",
              "scope.google.colab = scope.google.colab || {};\n",
              "scope.google.colab._files = {\n",
              "  _uploadFiles,\n",
              "  _uploadFilesContinue,\n",
              "};\n",
              "})(self);\n",
              "</script> "
            ]
          },
          "metadata": {}
        },
        {
          "output_type": "stream",
          "name": "stdout",
          "text": [
            "Saving kaggle.json to kaggle (1).json\n"
          ]
        },
        {
          "output_type": "execute_result",
          "data": {
            "text/plain": [
              "{'kaggle.json': b'{\"username\":\"kurniacahyaf\",\"key\":\"e3f28eef4d71d12989a5e93314b3e05b\"}'}"
            ]
          },
          "metadata": {},
          "execution_count": 99
        }
      ],
      "source": [
        "# Upload kaggle.json\n",
        "files.upload()"
      ]
    },
    {
      "cell_type": "code",
      "source": [
        "# Make directory named kaggle and copy kaggle.json file there.\n",
        "!mkdir -p ~/.kaggle\n",
        "!cp kaggle.json ~/.kaggle/\n",
        "\n",
        "# Change the permissions of the file.\n",
        "!chmod 600 ~/.kaggle/kaggle.json"
      ],
      "metadata": {
        "id": "ESSWQ8a89GyR"
      },
      "execution_count": 100,
      "outputs": []
    },
    {
      "cell_type": "markdown",
      "source": [
        "### Downloading Dataset <a name=\"downloading-dataset\"></a>"
      ],
      "metadata": {
        "id": "HRz_ei759ObZ"
      }
    },
    {
      "cell_type": "markdown",
      "source": [
        "After setting up the Kaggle API, we can now download our dataset. We will download the `Hotel Reservations Classification Dataset` from Kaggle. The dataset will be downloaded as a zip file. We will need to unzip the file to extract the data."
      ],
      "metadata": {
        "id": "ZWMZTFvf9Shh"
      }
    },
    {
      "cell_type": "code",
      "source": [
        "# Installation of Kaggle Package\n",
        "!pip install -q kaggle"
      ],
      "metadata": {
        "id": "WVrKSZbA9WXr"
      },
      "execution_count": 101,
      "outputs": []
    },
    {
      "cell_type": "code",
      "source": [
        "# Now we can import the dataset\n",
        "!kaggle datasets download -d ahsan81/hotel-reservations-classification-dataset"
      ],
      "metadata": {
        "colab": {
          "base_uri": "https://localhost:8080/"
        },
        "id": "ftUmFXyx9ZTc",
        "outputId": "4bd27eda-f572-4f75-866e-645cb496643a"
      },
      "execution_count": 102,
      "outputs": [
        {
          "output_type": "stream",
          "name": "stdout",
          "text": [
            "Downloading hotel-reservations-classification-dataset.zip to /content\n",
            "100% 480k/480k [00:00<00:00, 857kB/s]\n",
            "100% 480k/480k [00:00<00:00, 856kB/s]\n"
          ]
        }
      ]
    },
    {
      "cell_type": "code",
      "source": [
        "# The dataset is downloaded as a zip file, we need to unzip it\n",
        "!unzip \\*.zip  && rm *.zip"
      ],
      "metadata": {
        "colab": {
          "base_uri": "https://localhost:8080/"
        },
        "id": "yHthYE_Y9egi",
        "outputId": "3e87dc1c-a126-4727-8cf7-d93b0a9711ac"
      },
      "execution_count": 103,
      "outputs": [
        {
          "output_type": "stream",
          "name": "stdout",
          "text": [
            "Archive:  hotel-reservations-classification-dataset.zip\n",
            "replace Hotel Reservations.csv? [y]es, [n]o, [A]ll, [N]one, [r]ename: A\n",
            "  inflating: Hotel Reservations.csv  \n"
          ]
        }
      ]
    },
    {
      "cell_type": "code",
      "source": [
        "# Check if the dataset has been unzipped successfully\n",
        "!ls"
      ],
      "metadata": {
        "colab": {
          "base_uri": "https://localhost:8080/"
        },
        "id": "F4ERDVbr9g0t",
        "outputId": "ac4879b1-d716-432b-d18c-1a8a41e4afff"
      },
      "execution_count": 104,
      "outputs": [
        {
          "output_type": "stream",
          "name": "stdout",
          "text": [
            "'Hotel Reservations.csv'  'kaggle (1).json'   kaggle.json   sample_data\n"
          ]
        }
      ]
    },
    {
      "cell_type": "markdown",
      "source": [
        "## Setting Up the Environment <a name=\"setting-up-the-environment\"></a>"
      ],
      "metadata": {
        "id": "Hmu3m86ZCuyk"
      }
    },
    {
      "cell_type": "markdown",
      "source": [
        "Before we start our data analysis, we need to set up our environment. We are using Google Colab which is a free cloud service. We will install all the required dependencies including Apache Spark. We also need to install PySpark, which is the Python library for Spark.\n"
      ],
      "metadata": {
        "id": "U_X4pBNoCxk4"
      }
    },
    {
      "cell_type": "markdown",
      "source": [
        "### Installation of Dependencies <a name=\"installation-of-dependencies\"></a>"
      ],
      "metadata": {
        "id": "fKVu9wW1Czpf"
      }
    },
    {
      "cell_type": "markdown",
      "source": [
        "The dependencies we need to install include pandas, numpy, matplotlib and seaborn for data manipulation and visualization. We also need to install pyspark which is the Python library for Spark.\n"
      ],
      "metadata": {
        "id": "uAnGgoxPC1tN"
      }
    },
    {
      "cell_type": "code",
      "source": [
        "!pip install -q findspark\n",
        "!pip install pyspark"
      ],
      "metadata": {
        "colab": {
          "base_uri": "https://localhost:8080/"
        },
        "id": "65xWNnYDDFj8",
        "outputId": "75b31490-3a10-44f5-dce9-3a8d59ab47f9"
      },
      "execution_count": 105,
      "outputs": [
        {
          "output_type": "stream",
          "name": "stdout",
          "text": [
            "Looking in indexes: https://pypi.org/simple, https://us-python.pkg.dev/colab-wheels/public/simple/\n",
            "Requirement already satisfied: pyspark in /usr/local/lib/python3.10/dist-packages (3.4.0)\n",
            "Requirement already satisfied: py4j==0.10.9.7 in /usr/local/lib/python3.10/dist-packages (from pyspark) (0.10.9.7)\n"
          ]
        }
      ]
    },
    {
      "cell_type": "markdown",
      "source": [
        "### Setting Up Apache Spark <a name=\"setting-up-apache-spark\"></a>"
      ],
      "metadata": {
        "id": "caBf-5xlC3Ck"
      }
    },
    {
      "cell_type": "markdown",
      "source": [
        "After installing the dependencies, we need to setup Apache Spark. We will download a specific version of Spark and Hadoop and install findspark, a python library to find Spark."
      ],
      "metadata": {
        "id": "rv6wh6qHC7bh"
      }
    },
    {
      "cell_type": "code",
      "source": [
        "from pyspark.sql import SparkSession\n",
        "\n",
        "spark = SparkSession \\\n",
        "    .builder \\\n",
        "    .appName(\"Python Clustering\") \\\n",
        "    .config(\"spark.some.config.option\", \"some-value\") \\\n",
        "    .getOrCreate()\n",
        "\n",
        "# Start a SparkSession\n",
        "import findspark\n",
        "findspark.init()\n",
        "from pyspark.sql import SparkSession\n",
        "spark = SparkSession.builder.master(\"local[*]\").getOrCreate()"
      ],
      "metadata": {
        "id": "pbqzR_FcDME2"
      },
      "execution_count": 106,
      "outputs": []
    },
    {
      "cell_type": "code",
      "source": [
        "!java --version\n",
        "!python --version"
      ],
      "metadata": {
        "colab": {
          "base_uri": "https://localhost:8080/"
        },
        "id": "CvjjTuA1DOmC",
        "outputId": "5c216aa5-a72a-4dc1-8744-66ba76d536b8"
      },
      "execution_count": 107,
      "outputs": [
        {
          "output_type": "stream",
          "name": "stdout",
          "text": [
            "openjdk 11.0.19 2023-04-18\n",
            "OpenJDK Runtime Environment (build 11.0.19+7-post-Ubuntu-0ubuntu120.04.1)\n",
            "OpenJDK 64-Bit Server VM (build 11.0.19+7-post-Ubuntu-0ubuntu120.04.1, mixed mode, sharing)\n",
            "Python 3.10.12\n"
          ]
        }
      ]
    },
    {
      "cell_type": "code",
      "source": [
        "# Set up required environment variables\n",
        "import os\n",
        "os.environ[\"JAVA_HOME\"] = \"/usr/lib/jvm/java-8-openjdk-amd64\"\n",
        "os.environ[\"SPARK_HOME\"] = \"/content/spark-3.1.2-bin-hadoop3.2\""
      ],
      "metadata": {
        "id": "1HmTsIu6DV70"
      },
      "execution_count": 108,
      "outputs": []
    },
    {
      "cell_type": "code",
      "source": [
        "# Test if Spark is working\n",
        "df = spark.createDataFrame([{\"hello\": \"world\"} for x in range(1000)])\n",
        "df.show(3)"
      ],
      "metadata": {
        "colab": {
          "base_uri": "https://localhost:8080/"
        },
        "id": "_tRDLfoiDSs4",
        "outputId": "5ff05ee8-d3ed-4753-e0d8-e26fd657a568"
      },
      "execution_count": 109,
      "outputs": [
        {
          "output_type": "stream",
          "name": "stdout",
          "text": [
            "+-----+\n",
            "|hello|\n",
            "+-----+\n",
            "|world|\n",
            "|world|\n",
            "|world|\n",
            "+-----+\n",
            "only showing top 3 rows\n",
            "\n"
          ]
        }
      ]
    },
    {
      "cell_type": "markdown",
      "source": [
        "## Data Loading and Exploration <a name=\"data-loading-and-exploration\"></a>"
      ],
      "metadata": {
        "id": "gO2b_49nE2OO"
      }
    },
    {
      "cell_type": "markdown",
      "source": [
        "Once our environment is ready, we will load our dataset into a Spark DataFrame. This data structure allows us to explore our dataset in a distributed manner.\n"
      ],
      "metadata": {
        "id": "yl1gbzhqE4gL"
      }
    },
    {
      "cell_type": "markdown",
      "source": [
        "### Loading Dataset into Spark DataFrame <a name=\"loading-dataset-into-spark-dataframe\"></a>\n"
      ],
      "metadata": {
        "id": "-pCWp_2XE5zG"
      }
    },
    {
      "cell_type": "markdown",
      "source": [
        "We will use Spark's inbuilt ability to read csv files to load the data into a DataFrame.\n"
      ],
      "metadata": {
        "id": "02y6zIjAE6_H"
      }
    },
    {
      "cell_type": "code",
      "source": [
        "# Loading Dataset into Spark DataFrame\n",
        "df = spark.read.csv('/content/Hotel Reservations.csv', inferSchema=True, header=True)"
      ],
      "metadata": {
        "id": "AoHYbUJBFLCw"
      },
      "execution_count": 110,
      "outputs": []
    },
    {
      "cell_type": "markdown",
      "source": [
        "### Initial Data Exploration <a name=\"initial-data-exploration\"></a>\n"
      ],
      "metadata": {
        "id": "yqCoYigJE8Lp"
      }
    },
    {
      "cell_type": "markdown",
      "source": [
        "We will perform some initial exploration to get a sense of what the data looks like. This includes understanding the schema, peeking at the data, and getting some summary statistics."
      ],
      "metadata": {
        "id": "x8JUc6kWE-KM"
      }
    },
    {
      "cell_type": "code",
      "source": [
        "# Initial Data Exploration\n",
        "print(\"Number of rows: \", df.count())\n",
        "print(\"Number of columns: \", len(df.columns))\n",
        "df.printSchema()"
      ],
      "metadata": {
        "colab": {
          "base_uri": "https://localhost:8080/"
        },
        "id": "fThCd4UHFTfo",
        "outputId": "e473738d-c5e9-4eb0-cb31-668b7edb3e56"
      },
      "execution_count": 111,
      "outputs": [
        {
          "output_type": "stream",
          "name": "stdout",
          "text": [
            "Number of rows:  36275\n",
            "Number of columns:  19\n",
            "root\n",
            " |-- Booking_ID: string (nullable = true)\n",
            " |-- no_of_adults: integer (nullable = true)\n",
            " |-- no_of_children: integer (nullable = true)\n",
            " |-- no_of_weekend_nights: integer (nullable = true)\n",
            " |-- no_of_week_nights: integer (nullable = true)\n",
            " |-- type_of_meal_plan: string (nullable = true)\n",
            " |-- required_car_parking_space: integer (nullable = true)\n",
            " |-- room_type_reserved: string (nullable = true)\n",
            " |-- lead_time: integer (nullable = true)\n",
            " |-- arrival_year: integer (nullable = true)\n",
            " |-- arrival_month: integer (nullable = true)\n",
            " |-- arrival_date: integer (nullable = true)\n",
            " |-- market_segment_type: string (nullable = true)\n",
            " |-- repeated_guest: integer (nullable = true)\n",
            " |-- no_of_previous_cancellations: integer (nullable = true)\n",
            " |-- no_of_previous_bookings_not_canceled: integer (nullable = true)\n",
            " |-- avg_price_per_room: double (nullable = true)\n",
            " |-- no_of_special_requests: integer (nullable = true)\n",
            " |-- booking_status: string (nullable = true)\n",
            "\n"
          ]
        }
      ]
    },
    {
      "cell_type": "code",
      "source": [
        "# Display first 5 rows\n",
        "df.show(5)\n",
        "\n",
        "# Summary statistics\n",
        "df.describe().show()"
      ],
      "metadata": {
        "colab": {
          "base_uri": "https://localhost:8080/"
        },
        "id": "1xG9x2ikFXAG",
        "outputId": "7cc958e7-6329-45d2-c764-8186770f1240"
      },
      "execution_count": 112,
      "outputs": [
        {
          "output_type": "stream",
          "name": "stdout",
          "text": [
            "+----------+------------+--------------+--------------------+-----------------+-----------------+--------------------------+------------------+---------+------------+-------------+------------+-------------------+--------------+----------------------------+------------------------------------+------------------+----------------------+--------------+\n",
            "|Booking_ID|no_of_adults|no_of_children|no_of_weekend_nights|no_of_week_nights|type_of_meal_plan|required_car_parking_space|room_type_reserved|lead_time|arrival_year|arrival_month|arrival_date|market_segment_type|repeated_guest|no_of_previous_cancellations|no_of_previous_bookings_not_canceled|avg_price_per_room|no_of_special_requests|booking_status|\n",
            "+----------+------------+--------------+--------------------+-----------------+-----------------+--------------------------+------------------+---------+------------+-------------+------------+-------------------+--------------+----------------------------+------------------------------------+------------------+----------------------+--------------+\n",
            "|  INN00001|           2|             0|                   1|                2|      Meal Plan 1|                         0|       Room_Type 1|      224|        2017|           10|           2|            Offline|             0|                           0|                                   0|              65.0|                     0|  Not_Canceled|\n",
            "|  INN00002|           2|             0|                   2|                3|     Not Selected|                         0|       Room_Type 1|        5|        2018|           11|           6|             Online|             0|                           0|                                   0|            106.68|                     1|  Not_Canceled|\n",
            "|  INN00003|           1|             0|                   2|                1|      Meal Plan 1|                         0|       Room_Type 1|        1|        2018|            2|          28|             Online|             0|                           0|                                   0|              60.0|                     0|      Canceled|\n",
            "|  INN00004|           2|             0|                   0|                2|      Meal Plan 1|                         0|       Room_Type 1|      211|        2018|            5|          20|             Online|             0|                           0|                                   0|             100.0|                     0|      Canceled|\n",
            "|  INN00005|           2|             0|                   1|                1|     Not Selected|                         0|       Room_Type 1|       48|        2018|            4|          11|             Online|             0|                           0|                                   0|              94.5|                     0|      Canceled|\n",
            "+----------+------------+--------------+--------------------+-----------------+-----------------+--------------------------+------------------+---------+------------+-------------+------------+-------------------+--------------+----------------------------+------------------------------------+------------------+----------------------+--------------+\n",
            "only showing top 5 rows\n",
            "\n",
            "+-------+----------+------------------+-------------------+--------------------+------------------+-----------------+--------------------------+------------------+-----------------+------------------+------------------+------------------+-------------------+-------------------+----------------------------+------------------------------------+------------------+----------------------+--------------+\n",
            "|summary|Booking_ID|      no_of_adults|     no_of_children|no_of_weekend_nights| no_of_week_nights|type_of_meal_plan|required_car_parking_space|room_type_reserved|        lead_time|      arrival_year|     arrival_month|      arrival_date|market_segment_type|     repeated_guest|no_of_previous_cancellations|no_of_previous_bookings_not_canceled|avg_price_per_room|no_of_special_requests|booking_status|\n",
            "+-------+----------+------------------+-------------------+--------------------+------------------+-----------------+--------------------------+------------------+-----------------+------------------+------------------+------------------+-------------------+-------------------+----------------------------+------------------------------------+------------------+----------------------+--------------+\n",
            "|  count|     36275|             36275|              36275|               36275|             36275|            36275|                     36275|             36275|            36275|             36275|             36275|             36275|              36275|              36275|                       36275|                               36275|             36275|                 36275|         36275|\n",
            "|   mean|      null|1.8449620951068229|0.10527911784975878|   0.810723638869745|2.2043004824259134|             null|        0.0309855272226051|              null|85.23255685733976|2017.8204272915232| 7.423652653342522|15.596995175740869|               null|0.02563749138525155|        0.023349414197105445|                 0.15341144038594073| 103.4235390764958|    0.6196554100620262|          null|\n",
            "| stddev|      null|0.5187148379012908| 0.4026480635892787|   0.870643614759999|1.4109048548240162|             null|       0.17328084736891436|              null|85.93081669923292|0.3838364395590116|3.0698944112257633| 8.740447368632918|               null|0.15805346903513293|         0.36833144791978645|                  1.7541707114426341| 35.08942403637024|    0.7862358983956053|          null|\n",
            "|    min|  INN00001|                 0|                  0|                   0|                 0|      Meal Plan 1|                         0|       Room_Type 1|                0|              2017|                 1|                 1|           Aviation|                  0|                           0|                                   0|               0.0|                     0|      Canceled|\n",
            "|    max|  INN36275|                 4|                 10|                   7|                17|     Not Selected|                         1|       Room_Type 7|              443|              2018|                12|                31|             Online|                  1|                          13|                                  58|             540.0|                     5|  Not_Canceled|\n",
            "+-------+----------+------------------+-------------------+--------------------+------------------+-----------------+--------------------------+------------------+-----------------+------------------+------------------+------------------+-------------------+-------------------+----------------------------+------------------------------------+------------------+----------------------+--------------+\n",
            "\n"
          ]
        }
      ]
    },
    {
      "cell_type": "markdown",
      "source": [
        "## Data Preprocessing <a name=\"data-preprocessing\"></a>"
      ],
      "metadata": {
        "id": "cNW2xzsVFkWg"
      }
    },
    {
      "cell_type": "markdown",
      "source": [
        "Before we can feed our dataset into a machine learning model, we need to preprocess the data. This includes handling missing values and scaling or normalizing features if necessary."
      ],
      "metadata": {
        "id": "ZruNOqyGOi6p"
      }
    },
    {
      "cell_type": "markdown",
      "source": [
        "### Handling Missing Values <a name=\"handling-missing-values\"></a>"
      ],
      "metadata": {
        "id": "uu08-VEkOkMg"
      }
    },
    {
      "cell_type": "markdown",
      "source": [
        "Handling missing values is an important step of preprocessing in any machine learning task. We will handle missing values by either deleting rows or filling in values."
      ],
      "metadata": {
        "id": "l19MPNSPOluM"
      }
    },
    {
      "cell_type": "code",
      "source": [
        "from pyspark.ml.feature import Imputer\n",
        "from pyspark.ml.feature import StandardScaler, VectorAssembler\n",
        "from pyspark.sql.functions import col, when, isnan, count"
      ],
      "metadata": {
        "id": "8jp-UfMhOq7i"
      },
      "execution_count": 113,
      "outputs": []
    },
    {
      "cell_type": "code",
      "source": [
        "df = df.na.drop()"
      ],
      "metadata": {
        "id": "h0QmRo5TOt0G"
      },
      "execution_count": 114,
      "outputs": []
    },
    {
      "cell_type": "code",
      "source": [
        "# Check again for missing values\n",
        "df.select([count(when(isnan(c) | col(c).isNull(), c)).alias(c) for c in df.columns]).show()"
      ],
      "metadata": {
        "colab": {
          "base_uri": "https://localhost:8080/"
        },
        "id": "4FR2BDIdOweb",
        "outputId": "61477289-e147-44ce-fdf7-68971b2f0e93"
      },
      "execution_count": 115,
      "outputs": [
        {
          "output_type": "stream",
          "name": "stdout",
          "text": [
            "+----------+------------+--------------+--------------------+-----------------+-----------------+--------------------------+------------------+---------+------------+-------------+------------+-------------------+--------------+----------------------------+------------------------------------+------------------+----------------------+--------------+\n",
            "|Booking_ID|no_of_adults|no_of_children|no_of_weekend_nights|no_of_week_nights|type_of_meal_plan|required_car_parking_space|room_type_reserved|lead_time|arrival_year|arrival_month|arrival_date|market_segment_type|repeated_guest|no_of_previous_cancellations|no_of_previous_bookings_not_canceled|avg_price_per_room|no_of_special_requests|booking_status|\n",
            "+----------+------------+--------------+--------------------+-----------------+-----------------+--------------------------+------------------+---------+------------+-------------+------------+-------------------+--------------+----------------------------+------------------------------------+------------------+----------------------+--------------+\n",
            "|         0|           0|             0|                   0|                0|                0|                         0|                 0|        0|           0|            0|           0|                  0|             0|                           0|                                   0|                 0|                     0|             0|\n",
            "+----------+------------+--------------+--------------------+-----------------+-----------------+--------------------------+------------------+---------+------------+-------------+------------+-------------------+--------------+----------------------------+------------------------------------+------------------+----------------------+--------------+\n",
            "\n"
          ]
        }
      ]
    },
    {
      "cell_type": "markdown",
      "source": [
        "### Feature Scaling/Normalization <a name=\"feature-scalingnormalization\"></a>"
      ],
      "metadata": {
        "id": "30qNfOcgPNLs"
      }
    },
    {
      "cell_type": "markdown",
      "source": [
        "Feature scaling is a method used to standardize the range of independent variables or features of data. If the range of raw data varies widely, in some machine learning algorithms, objective functions will not work properly without normalization."
      ],
      "metadata": {
        "id": "IS9fWTrWPNxs"
      }
    },
    {
      "cell_type": "code",
      "source": [
        "from pyspark.ml.feature import StringIndexer, VectorAssembler"
      ],
      "metadata": {
        "id": "QKekkAqxPqCz"
      },
      "execution_count": 116,
      "outputs": []
    },
    {
      "cell_type": "code",
      "source": [
        "# list of columns needs to be indexed\n",
        "indexers = ['Booking_ID', 'type_of_meal_plan', 'room_type_reserved', 'market_segment_type', 'booking_status']\n",
        "\n",
        "for column in indexers:\n",
        "    stringIndexer = StringIndexer(inputCol=column, outputCol=column+\"_index\")\n",
        "    df = stringIndexer.fit(df).transform(df)"
      ],
      "metadata": {
        "id": "yP1HWXugPSYX"
      },
      "execution_count": 117,
      "outputs": []
    },
    {
      "cell_type": "code",
      "source": [
        "# Now new dataframe df will have new columns with suffix '_index',\n",
        "# which are numerical representations of the corresponding string columns.\n",
        "\n",
        "# Now modify assembler to use these new columns:\n",
        "inputCols = [column+\"_index\" if column in indexers else column for column in df.columns]\n",
        "assembler = VectorAssembler(inputCols=inputCols, outputCol=\"features\")\n",
        "df = assembler.transform(df)"
      ],
      "metadata": {
        "id": "LvJMQ3LWQHjN"
      },
      "execution_count": 118,
      "outputs": []
    },
    {
      "cell_type": "code",
      "source": [
        "scaler = StandardScaler(inputCol=\"features\", outputCol=\"scaledFeatures\", withStd=True, withMean=True)\n",
        "scalerModel = scaler.fit(df)\n",
        "df = scalerModel.transform(df)"
      ],
      "metadata": {
        "id": "mHssSpFdQMmr"
      },
      "execution_count": 119,
      "outputs": []
    },
    {
      "cell_type": "code",
      "source": [
        "df.show(5)"
      ],
      "metadata": {
        "colab": {
          "base_uri": "https://localhost:8080/"
        },
        "id": "8R_UZpOxQR5n",
        "outputId": "3d98951c-8917-44fb-e651-b124eee777a3"
      },
      "execution_count": 120,
      "outputs": [
        {
          "output_type": "stream",
          "name": "stdout",
          "text": [
            "+----------+------------+--------------+--------------------+-----------------+-----------------+--------------------------+------------------+---------+------------+-------------+------------+-------------------+--------------+----------------------------+------------------------------------+------------------+----------------------+--------------+----------------+-----------------------+------------------------+-------------------------+--------------------+--------------------+--------------------+\n",
            "|Booking_ID|no_of_adults|no_of_children|no_of_weekend_nights|no_of_week_nights|type_of_meal_plan|required_car_parking_space|room_type_reserved|lead_time|arrival_year|arrival_month|arrival_date|market_segment_type|repeated_guest|no_of_previous_cancellations|no_of_previous_bookings_not_canceled|avg_price_per_room|no_of_special_requests|booking_status|Booking_ID_index|type_of_meal_plan_index|room_type_reserved_index|market_segment_type_index|booking_status_index|            features|      scaledFeatures|\n",
            "+----------+------------+--------------+--------------------+-----------------+-----------------+--------------------------+------------------+---------+------------+-------------+------------+-------------------+--------------+----------------------------+------------------------------------+------------------+----------------------+--------------+----------------+-----------------------+------------------------+-------------------------+--------------------+--------------------+--------------------+\n",
            "|  INN00001|           2|             0|                   1|                2|      Meal Plan 1|                         0|       Room_Type 1|      224|        2017|           10|           2|            Offline|             0|                           0|                                   0|              65.0|                     0|  Not_Canceled|             0.0|                    0.0|                     0.0|                      1.0|                 0.0|(24,[1,3,4,8,9,10...|[-1.7319791870469...|\n",
            "|  INN00002|           2|             0|                   2|                3|     Not Selected|                         0|       Room_Type 1|        5|        2018|           11|           6|             Online|             0|                           0|                                   0|            106.68|                     1|  Not_Canceled|             1.0|                    1.0|                     0.0|                      0.0|                 0.0|(24,[0,1,3,4,5,8,...|[-1.7318836927983...|\n",
            "|  INN00003|           1|             0|                   2|                1|      Meal Plan 1|                         0|       Room_Type 1|        1|        2018|            2|          28|             Online|             0|                           0|                                   0|              60.0|                     0|      Canceled|             2.0|                    0.0|                     0.0|                      0.0|                 1.0|(24,[0,1,3,4,8,9,...|[-1.7317881985497...|\n",
            "|  INN00004|           2|             0|                   0|                2|      Meal Plan 1|                         0|       Room_Type 1|      211|        2018|            5|          20|             Online|             0|                           0|                                   0|             100.0|                     0|      Canceled|             3.0|                    0.0|                     0.0|                      0.0|                 1.0|(24,[0,1,4,8,9,10...|[-1.7316927043011...|\n",
            "|  INN00005|           2|             0|                   1|                1|     Not Selected|                         0|       Room_Type 1|       48|        2018|            4|          11|             Online|             0|                           0|                                   0|              94.5|                     0|      Canceled|             4.0|                    1.0|                     0.0|                      0.0|                 1.0|(24,[0,1,3,4,5,8,...|[-1.7315972100525...|\n",
            "+----------+------------+--------------+--------------------+-----------------+-----------------+--------------------------+------------------+---------+------------+-------------+------------+-------------------+--------------+----------------------------+------------------------------------+------------------+----------------------+--------------+----------------+-----------------------+------------------------+-------------------------+--------------------+--------------------+--------------------+\n",
            "only showing top 5 rows\n",
            "\n"
          ]
        }
      ]
    },
    {
      "cell_type": "markdown",
      "source": [
        "## Feature Engineering <a name=\"feature-engineering\"></a>"
      ],
      "metadata": {
        "id": "9Yssk8FXQ-hn"
      }
    },
    {
      "cell_type": "markdown",
      "source": [
        "The next step after preprocessing our data is to engineer our features to improve model performance. This can be done through various ways, such as feature extraction, transformation, or selection."
      ],
      "metadata": {
        "id": "MQLbkJc9RGLQ"
      }
    },
    {
      "cell_type": "markdown",
      "source": [
        "### Feature Selection <a name=\"feature-selection\"></a>"
      ],
      "metadata": {
        "id": "tURy1dm4RIVl"
      }
    },
    {
      "cell_type": "markdown",
      "source": [
        "Feature selection is the process of selecting a subset of relevant features for use in model construction. It is used to simplify models, improve accuracy, and prevent overfitting."
      ],
      "metadata": {
        "id": "dvJW2J1NRJsO"
      }
    },
    {
      "cell_type": "code",
      "source": [
        "selected_features = ['no_of_adults', 'no_of_children', 'no_of_weekend_nights', 'no_of_week_nights', 'required_car_parking_space', 'lead_time', 'arrival_year', 'arrival_month', 'arrival_date', 'repeated_guest', 'no_of_previous_cancellations', 'no_of_previous_bookings_not_canceled', 'avg_price_per_room', 'no_of_special_requests', 'type_of_meal_plan_index', 'room_type_reserved_index', 'market_segment_type_index']"
      ],
      "metadata": {
        "id": "IQswcKO-RQHG"
      },
      "execution_count": 121,
      "outputs": []
    },
    {
      "cell_type": "markdown",
      "source": [
        "### Feature Preparation <a name=\"feature-preparation\"></a>\n"
      ],
      "metadata": {
        "id": "WdeZFeRoRLdM"
      }
    },
    {
      "cell_type": "markdown",
      "source": [
        "Feature preparation is the process of constructing a final dataset from the raw dataset, in forms suitable for modeling. In this step, categorical features need to be converted to a suitable numerical form if they are to be used in a model that requires numerical inputs."
      ],
      "metadata": {
        "id": "CJ06pjI8RMid"
      }
    },
    {
      "cell_type": "code",
      "source": [
        "# Convert categorical features to numerical form\n",
        "indexer = StringIndexer(inputCol=\"booking_status\", outputCol=\"label\")\n",
        "df = indexer.fit(df).transform(df)"
      ],
      "metadata": {
        "id": "WFazWwErRVxG"
      },
      "execution_count": 122,
      "outputs": []
    },
    {
      "cell_type": "code",
      "source": [
        "# Assemble all features into a single vector\n",
        "df = df.withColumnRenamed(\"features\", \"features_old\")\n",
        "assembler = VectorAssembler(inputCols=selected_features, outputCol=\"features\")\n",
        "df = assembler.transform(df)"
      ],
      "metadata": {
        "id": "31kMDCFLRXt9"
      },
      "execution_count": 123,
      "outputs": []
    },
    {
      "cell_type": "code",
      "source": [
        "df.show(5)"
      ],
      "metadata": {
        "colab": {
          "base_uri": "https://localhost:8080/"
        },
        "id": "FtBKMTkrSrSs",
        "outputId": "39b1d5f4-22b7-460b-874f-4e8fddee3977"
      },
      "execution_count": 124,
      "outputs": [
        {
          "output_type": "stream",
          "name": "stdout",
          "text": [
            "+----------+------------+--------------+--------------------+-----------------+-----------------+--------------------------+------------------+---------+------------+-------------+------------+-------------------+--------------+----------------------------+------------------------------------+------------------+----------------------+--------------+----------------+-----------------------+------------------------+-------------------------+--------------------+--------------------+--------------------+-----+--------------------+\n",
            "|Booking_ID|no_of_adults|no_of_children|no_of_weekend_nights|no_of_week_nights|type_of_meal_plan|required_car_parking_space|room_type_reserved|lead_time|arrival_year|arrival_month|arrival_date|market_segment_type|repeated_guest|no_of_previous_cancellations|no_of_previous_bookings_not_canceled|avg_price_per_room|no_of_special_requests|booking_status|Booking_ID_index|type_of_meal_plan_index|room_type_reserved_index|market_segment_type_index|booking_status_index|        features_old|      scaledFeatures|label|            features|\n",
            "+----------+------------+--------------+--------------------+-----------------+-----------------+--------------------------+------------------+---------+------------+-------------+------------+-------------------+--------------+----------------------------+------------------------------------+------------------+----------------------+--------------+----------------+-----------------------+------------------------+-------------------------+--------------------+--------------------+--------------------+-----+--------------------+\n",
            "|  INN00001|           2|             0|                   1|                2|      Meal Plan 1|                         0|       Room_Type 1|      224|        2017|           10|           2|            Offline|             0|                           0|                                   0|              65.0|                     0|  Not_Canceled|             0.0|                    0.0|                     0.0|                      1.0|                 0.0|(24,[1,3,4,8,9,10...|[-1.7319791870469...|  0.0|(17,[0,2,3,5,6,7,...|\n",
            "|  INN00002|           2|             0|                   2|                3|     Not Selected|                         0|       Room_Type 1|        5|        2018|           11|           6|             Online|             0|                           0|                                   0|            106.68|                     1|  Not_Canceled|             1.0|                    1.0|                     0.0|                      0.0|                 0.0|(24,[0,1,3,4,5,8,...|[-1.7318836927983...|  0.0|(17,[0,2,3,5,6,7,...|\n",
            "|  INN00003|           1|             0|                   2|                1|      Meal Plan 1|                         0|       Room_Type 1|        1|        2018|            2|          28|             Online|             0|                           0|                                   0|              60.0|                     0|      Canceled|             2.0|                    0.0|                     0.0|                      0.0|                 1.0|(24,[0,1,3,4,8,9,...|[-1.7317881985497...|  1.0|(17,[0,2,3,5,6,7,...|\n",
            "|  INN00004|           2|             0|                   0|                2|      Meal Plan 1|                         0|       Room_Type 1|      211|        2018|            5|          20|             Online|             0|                           0|                                   0|             100.0|                     0|      Canceled|             3.0|                    0.0|                     0.0|                      0.0|                 1.0|(24,[0,1,4,8,9,10...|[-1.7316927043011...|  1.0|(17,[0,3,5,6,7,8,...|\n",
            "|  INN00005|           2|             0|                   1|                1|     Not Selected|                         0|       Room_Type 1|       48|        2018|            4|          11|             Online|             0|                           0|                                   0|              94.5|                     0|      Canceled|             4.0|                    1.0|                     0.0|                      0.0|                 1.0|(24,[0,1,3,4,5,8,...|[-1.7315972100525...|  1.0|(17,[0,2,3,5,6,7,...|\n",
            "+----------+------------+--------------+--------------------+-----------------+-----------------+--------------------------+------------------+---------+------------+-------------+------------+-------------------+--------------+----------------------------+------------------------------------+------------------+----------------------+--------------+----------------+-----------------------+------------------------+-------------------------+--------------------+--------------------+--------------------+-----+--------------------+\n",
            "only showing top 5 rows\n",
            "\n"
          ]
        }
      ]
    },
    {
      "cell_type": "code",
      "source": [
        "df.select('features', 'label').show(5)"
      ],
      "metadata": {
        "colab": {
          "base_uri": "https://localhost:8080/"
        },
        "id": "HrljY15ySnk5",
        "outputId": "82cde3dc-d532-4fbd-df2e-bf03954a5f26"
      },
      "execution_count": 125,
      "outputs": [
        {
          "output_type": "stream",
          "name": "stdout",
          "text": [
            "+--------------------+-----+\n",
            "|            features|label|\n",
            "+--------------------+-----+\n",
            "|(17,[0,2,3,5,6,7,...|  0.0|\n",
            "|(17,[0,2,3,5,6,7,...|  0.0|\n",
            "|(17,[0,2,3,5,6,7,...|  1.0|\n",
            "|(17,[0,3,5,6,7,8,...|  1.0|\n",
            "|(17,[0,2,3,5,6,7,...|  1.0|\n",
            "+--------------------+-----+\n",
            "only showing top 5 rows\n",
            "\n"
          ]
        }
      ]
    },
    {
      "cell_type": "markdown",
      "source": [
        "## Model Building <a name=\"model-building\"></a>"
      ],
      "metadata": {
        "id": "yW5Us1HQTdxC"
      }
    },
    {
      "cell_type": "markdown",
      "source": [
        "### Choice of Classification Algorithm <a name=\"choice-of-classification-algorithm\"></a>"
      ],
      "metadata": {
        "id": "u8Vr_dMKTi-7"
      }
    },
    {
      "cell_type": "markdown",
      "source": [
        "For this task, we'll use the logistic regression classification model provided by Apache Spark's Machine Learning library (MLlib). The `logistic regression` model is chosen because it is a simple, fast and efficient algorithm for solving binary classification problems. It also provides good performance when the feature space is linearly separable. Moreover, it is easy to implement and interpret, which makes it a good starting point for this kind of problem."
      ],
      "metadata": {
        "id": "Efz98Q_xTtui"
      }
    },
    {
      "cell_type": "code",
      "source": [
        "from pyspark.ml.classification import LogisticRegression\n",
        "\n",
        "# Create an initial model using the train set.\n",
        "lr = LogisticRegression(featuresCol=\"features\", labelCol=\"label\")"
      ],
      "metadata": {
        "id": "d_9KBWqWT5Ob"
      },
      "execution_count": 126,
      "outputs": []
    },
    {
      "cell_type": "markdown",
      "source": [
        "### Reason for Choosing the Algorithm <a name=\"reason-for-choosing-the-algorithm\"></a>"
      ],
      "metadata": {
        "id": "SjI3ZUJYTjqj"
      }
    },
    {
      "cell_type": "markdown",
      "source": [
        "Logistic regression was chosen for a few reasons. First, it is a simple and interpretable model. It provides coefficients for each feature which can be interpreted as the contribution of each feature to the decision made by the model. This is particularly useful for understanding the important features in our dataset.\n",
        "\n",
        "Second, logistic regression can be very efficient and does not require high computational resources, which makes it a good choice for a big dataset like the one we have.\n",
        "\n",
        "Finally, even though logistic regression is a linear model, it can model non-linear relationships when we include interaction terms or polynomial terms of the features. Thus, we can easily extend it if we need to capture non-linear relationships."
      ],
      "metadata": {
        "id": "-bwRFYOSUClk"
      }
    },
    {
      "cell_type": "code",
      "source": [
        "# Split the data into train and test sets\n",
        "train_data, test_data = df.randomSplit([0.7, 0.3], seed=42)\n",
        "\n",
        "# Then train your model on the training data\n",
        "lr_model = lr.fit(train_data)"
      ],
      "metadata": {
        "id": "2kJFk4VDUBJC"
      },
      "execution_count": 127,
      "outputs": []
    },
    {
      "cell_type": "markdown",
      "source": [
        "randomSplit() is used to split DataFrame into training and testing datasets. The argument [0.7, 0.3] specifies that want 70% of the data to be in the training set and the remaining 30% to be in the testing set. The seed parameter ensures that the split is reproducible. Once the data is split, can then fit model on the training data."
      ],
      "metadata": {
        "id": "BbdNwfv2UntT"
      }
    },
    {
      "cell_type": "code",
      "source": [
        "lr_model"
      ],
      "metadata": {
        "colab": {
          "base_uri": "https://localhost:8080/"
        },
        "id": "8sT7vq_yVElU",
        "outputId": "9f82891a-9f4a-4abe-a7b9-0b91a3425e82"
      },
      "execution_count": 128,
      "outputs": [
        {
          "output_type": "execute_result",
          "data": {
            "text/plain": [
              "LogisticRegressionModel: uid=LogisticRegression_7baf1c72db6e, numClasses=2, numFeatures=17"
            ]
          },
          "metadata": {},
          "execution_count": 128
        }
      ]
    },
    {
      "cell_type": "markdown",
      "source": [
        "## Parameter Tuning <a name=\"parameter-tuning\"></a>"
      ],
      "metadata": {
        "id": "2of1n9MAW7sf"
      }
    },
    {
      "cell_type": "markdown",
      "source": [
        "### Initial Model Training\n",
        "<a name=\"initial-model-training\n",
        "\"></a>"
      ],
      "metadata": {
        "id": "hN3SfPAZW8Tr"
      }
    },
    {
      "cell_type": "markdown",
      "source": [
        "Initially, we created and trained the logistic regression model using default parameters. Although this can provide a reasonable starting point, the model's performance might improve if we tune the parameters."
      ],
      "metadata": {
        "id": "L65RAtztaKpQ"
      }
    },
    {
      "cell_type": "code",
      "source": [
        "# Let's print the parameters of our initial model.\n",
        "print(lr.explainParams())"
      ],
      "metadata": {
        "colab": {
          "base_uri": "https://localhost:8080/"
        },
        "id": "XhGgZHRKZ9Jk",
        "outputId": "74fde870-704d-42b5-84d1-b756534b77ef"
      },
      "execution_count": 129,
      "outputs": [
        {
          "output_type": "stream",
          "name": "stdout",
          "text": [
            "aggregationDepth: suggested depth for treeAggregate (>= 2). (default: 2)\n",
            "elasticNetParam: the ElasticNet mixing parameter, in range [0, 1]. For alpha = 0, the penalty is an L2 penalty. For alpha = 1, it is an L1 penalty. (default: 0.0)\n",
            "family: The name of family which is a description of the label distribution to be used in the model. Supported options: auto, binomial, multinomial (default: auto)\n",
            "featuresCol: features column name. (default: features, current: features)\n",
            "fitIntercept: whether to fit an intercept term. (default: True)\n",
            "labelCol: label column name. (default: label, current: label)\n",
            "lowerBoundsOnCoefficients: The lower bounds on coefficients if fitting under bound constrained optimization. The bound matrix must be compatible with the shape (1, number of features) for binomial regression, or (number of classes, number of features) for multinomial regression. (undefined)\n",
            "lowerBoundsOnIntercepts: The lower bounds on intercepts if fitting under bound constrained optimization. The bounds vector size must beequal with 1 for binomial regression, or the number oflasses for multinomial regression. (undefined)\n",
            "maxBlockSizeInMB: maximum memory in MB for stacking input data into blocks. Data is stacked within partitions. If more than remaining data size in a partition then it is adjusted to the data size. Default 0.0 represents choosing optimal value, depends on specific algorithm. Must be >= 0. (default: 0.0)\n",
            "maxIter: max number of iterations (>= 0). (default: 100)\n",
            "predictionCol: prediction column name. (default: prediction)\n",
            "probabilityCol: Column name for predicted class conditional probabilities. Note: Not all models output well-calibrated probability estimates! These probabilities should be treated as confidences, not precise probabilities. (default: probability)\n",
            "rawPredictionCol: raw prediction (a.k.a. confidence) column name. (default: rawPrediction)\n",
            "regParam: regularization parameter (>= 0). (default: 0.0)\n",
            "standardization: whether to standardize the training features before fitting the model. (default: True)\n",
            "threshold: Threshold in binary classification prediction, in range [0, 1]. If threshold and thresholds are both set, they must match.e.g. if threshold is p, then thresholds must be equal to [1-p, p]. (default: 0.5)\n",
            "thresholds: Thresholds in multi-class classification to adjust the probability of predicting each class. Array must have length equal to the number of classes, with values > 0, excepting that at most one value may be 0. The class with largest value p/t is predicted, where p is the original probability of that class and t is the class's threshold. (undefined)\n",
            "tol: the convergence tolerance for iterative algorithms (>= 0). (default: 1e-06)\n",
            "upperBoundsOnCoefficients: The upper bounds on coefficients if fitting under bound constrained optimization. The bound matrix must be compatible with the shape (1, number of features) for binomial regression, or (number of classes, number of features) for multinomial regression. (undefined)\n",
            "upperBoundsOnIntercepts: The upper bounds on intercepts if fitting under bound constrained optimization. The bound vector size must be equal with 1 for binomial regression, or the number of classes for multinomial regression. (undefined)\n",
            "weightCol: weight column name. If this is not set or empty, we treat all instance weights as 1.0. (undefined)\n"
          ]
        }
      ]
    },
    {
      "cell_type": "markdown",
      "source": [
        "### Hyperparameter Tuning <a name=\"hyperparameter-tuning\"></a>"
      ],
      "metadata": {
        "id": "GWsSyHpqW8nu"
      }
    },
    {
      "cell_type": "markdown",
      "source": [
        "Hyperparameter tuning is a crucial step in the machine learning pipeline. Spark's MLlib provides the `CrossValidator` method, which allows us to perform k-fold cross-validation and choose the best hyperparameters for our model.\n",
        "\n",
        "We'll use `ParamGridBuilder` to construct a grid of parameters to search over. We will try combinations of hyperparameters for `maxIter ` and `regParam`."
      ],
      "metadata": {
        "id": "WyrX7gAVaN4g"
      }
    },
    {
      "cell_type": "code",
      "source": [
        "from pyspark.ml.tuning import ParamGridBuilder, CrossValidator\n",
        "from pyspark.ml.evaluation import BinaryClassificationEvaluator"
      ],
      "metadata": {
        "id": "CCXBJZ8VaWv6"
      },
      "execution_count": 130,
      "outputs": []
    },
    {
      "cell_type": "code",
      "source": [
        "# Define a grid of hyperparameters to test:\n",
        "#  - test 10 values for maxIter from 10 to 100.\n",
        "#  - test 5 values for regParam from 0.01 to 0.05.\n",
        "paramGrid = (ParamGridBuilder()\n",
        "             .addGrid(lr.regParam, [0.01, 0.02, 0.03, 0.04, 0.05])\n",
        "             .addGrid(lr.maxIter, range(10, 101, 10))\n",
        "             .build())"
      ],
      "metadata": {
        "id": "NvxANDFRaZRc"
      },
      "execution_count": 131,
      "outputs": []
    },
    {
      "cell_type": "code",
      "source": [
        "# define an evaluation metric. This tells CrossValidator how doing by comparing the true labels with predictions.\n",
        "evaluator = BinaryClassificationEvaluator(rawPredictionCol=\"rawPrediction\")\n",
        "\n",
        "# Declare the CrossValidator, which performs cross-validation and hyperparameter tuning.\n",
        "cv = CrossValidator(estimator=lr, estimatorParamMaps=paramGrid, evaluator=evaluator, numFolds=5)"
      ],
      "metadata": {
        "id": "VvZQ9dRhad45"
      },
      "execution_count": 132,
      "outputs": []
    },
    {
      "cell_type": "code",
      "source": [
        "# Run cross-validations.\n",
        "cvModel = cv.fit(train_data)"
      ],
      "metadata": {
        "id": "ysCjjF3fakXJ"
      },
      "execution_count": 134,
      "outputs": []
    },
    {
      "cell_type": "code",
      "source": [
        "cvModel"
      ],
      "metadata": {
        "colab": {
          "base_uri": "https://localhost:8080/"
        },
        "id": "kX3ap8Rmetl4",
        "outputId": "633f397d-2935-4a45-8fc3-90fafd9460ac"
      },
      "execution_count": 135,
      "outputs": [
        {
          "output_type": "execute_result",
          "data": {
            "text/plain": [
              "CrossValidatorModel_010db442306a"
            ]
          },
          "metadata": {},
          "execution_count": 135
        }
      ]
    },
    {
      "cell_type": "markdown",
      "source": [
        "### Retraining Model with Optimized Parameters <a name=\"retraining-model-with-optimized-parameters\"></a>"
      ],
      "metadata": {
        "id": "a52FddmQW9jU"
      }
    },
    {
      "cell_type": "markdown",
      "source": [
        "After finding the best hyperparameters, we will use them to retrain the model on the entire training data and then apply it to the test data."
      ],
      "metadata": {
        "id": "EtyxH_lwatOm"
      }
    },
    {
      "cell_type": "code",
      "source": [
        "# Retrieve the best model.\n",
        "bestModel = cvModel.bestModel\n",
        "\n",
        "# Print best hyperparameters.\n",
        "print('Best regParam: ', bestModel._java_obj.getRegParam())\n",
        "print('Best maxIter: ', bestModel._java_obj.getMaxIter())"
      ],
      "metadata": {
        "colab": {
          "base_uri": "https://localhost:8080/"
        },
        "id": "kA3ky_S5awvu",
        "outputId": "85adab38-664b-4f98-c577-886e7c9c3177"
      },
      "execution_count": 136,
      "outputs": [
        {
          "output_type": "stream",
          "name": "stdout",
          "text": [
            "Best regParam:  0.01\n",
            "Best maxIter:  10\n"
          ]
        }
      ]
    },
    {
      "cell_type": "code",
      "source": [
        "# Apply the best model to the test data.\n",
        "predictions = bestModel.transform(test_data)"
      ],
      "metadata": {
        "id": "WE7pwSKRqq2Z"
      },
      "execution_count": 137,
      "outputs": []
    },
    {
      "cell_type": "markdown",
      "source": [
        "## Model Evaluation <a name=\"model-evaluation\"></a>"
      ],
      "metadata": {
        "id": "ggHogHiurKL2"
      }
    },
    {
      "cell_type": "markdown",
      "source": [
        "After model training and parameter tuning, we must evaluate the model's performance on unseen data using several evaluation metrics such as Accuracy, Confusion Matrix, Precision, Recall, and F1 Score."
      ],
      "metadata": {
        "id": "OnFeoTkYtx_e"
      }
    },
    {
      "cell_type": "markdown",
      "source": [
        "### Accuracy <a name=\"accuracy\"></a>"
      ],
      "metadata": {
        "id": "2x_twlQJr4He"
      }
    },
    {
      "cell_type": "markdown",
      "source": [
        "Accuracy measures the proportion of correct predictions out of the total predictions. While it's a common evaluation metric, it may not be the best choice when classes are imbalanced."
      ],
      "metadata": {
        "id": "fzu8jCL0t3Dw"
      }
    },
    {
      "cell_type": "code",
      "source": [
        "from pyspark.ml.evaluation import MulticlassClassificationEvaluator"
      ],
      "metadata": {
        "id": "YwUnCK3Qt4zE"
      },
      "execution_count": 138,
      "outputs": []
    },
    {
      "cell_type": "code",
      "source": [
        "# Create an evaluator for accuracy.\n",
        "accuracy_evaluator = MulticlassClassificationEvaluator(metricName=\"accuracy\")"
      ],
      "metadata": {
        "id": "0htIbDxPt6vw"
      },
      "execution_count": 139,
      "outputs": []
    },
    {
      "cell_type": "code",
      "source": [
        "# Compute the accuracy on the test set.\n",
        "accuracy = accuracy_evaluator.evaluate(predictions)\n",
        "print(f'Accuracy: {accuracy}')"
      ],
      "metadata": {
        "colab": {
          "base_uri": "https://localhost:8080/"
        },
        "id": "WBZLUatut8rU",
        "outputId": "fdd90bd3-e406-4a47-aa19-0b0ba234dde3"
      },
      "execution_count": 140,
      "outputs": [
        {
          "output_type": "stream",
          "name": "stdout",
          "text": [
            "Accuracy: 0.8001852709587772\n"
          ]
        }
      ]
    },
    {
      "cell_type": "markdown",
      "source": [
        "### Confusion Matrix <a name=\"confusion-matrix\"></a>"
      ],
      "metadata": {
        "id": "KzIK5GSJr4Wp"
      }
    },
    {
      "cell_type": "markdown",
      "source": [
        "A confusion matrix gives a more detailed breakdown of correct and incorrect classifications for each class."
      ],
      "metadata": {
        "id": "h8zcQe_ht_yK"
      }
    },
    {
      "cell_type": "code",
      "source": [
        "from pyspark.mllib.evaluation import MulticlassMetrics"
      ],
      "metadata": {
        "id": "v9lwpiBVuBDO"
      },
      "execution_count": 141,
      "outputs": []
    },
    {
      "cell_type": "code",
      "source": [
        "# Get the prediction and true label column\n",
        "predictionAndLabels = predictions.select(\"prediction\", \"label\").rdd"
      ],
      "metadata": {
        "id": "RGAqJAYbuCxk"
      },
      "execution_count": 142,
      "outputs": []
    },
    {
      "cell_type": "code",
      "source": [
        "# Instantiate metrics object\n",
        "metrics = MulticlassMetrics(predictionAndLabels)"
      ],
      "metadata": {
        "colab": {
          "base_uri": "https://localhost:8080/"
        },
        "id": "qmn8Sf6HuEQm",
        "outputId": "3f33d201-647f-4e70-dc75-339077af1c31"
      },
      "execution_count": 143,
      "outputs": [
        {
          "output_type": "stream",
          "name": "stderr",
          "text": [
            "/usr/local/lib/python3.10/dist-packages/pyspark/sql/context.py:157: FutureWarning: Deprecated in 3.0.0. Use SparkSession.builder.getOrCreate() instead.\n",
            "  warnings.warn(\n"
          ]
        }
      ]
    },
    {
      "cell_type": "code",
      "source": [
        "# Confusion Matrix\n",
        "print(metrics.confusionMatrix().toArray())"
      ],
      "metadata": {
        "colab": {
          "base_uri": "https://localhost:8080/"
        },
        "id": "bv5TBPwnuF37",
        "outputId": "47a929bf-6a07-49fc-cd55-13cc9032daf3"
      },
      "execution_count": 144,
      "outputs": [
        {
          "output_type": "stream",
          "name": "stdout",
          "text": [
            "[[6564.  654.]\n",
            " [1503. 2074.]]\n"
          ]
        }
      ]
    },
    {
      "cell_type": "markdown",
      "source": [
        "### Precision, Recall, and F1 Score <a name=\"precision-recall-f1-score\"></a>"
      ],
      "metadata": {
        "id": "yMEbyXpCr4nb"
      }
    },
    {
      "cell_type": "markdown",
      "source": [
        "Precision is the ratio of correctly predicted positive observations to the total predicted positive observations. Recall (Sensitivity) is the ratio of correctly predicted positive observations to the all observations in actual class. The F1 Score is the weighted average of Precision and Recall."
      ],
      "metadata": {
        "id": "kb-2medSuc7d"
      }
    },
    {
      "cell_type": "code",
      "source": [
        "# Precision\n",
        "# For binary classification, labels are usually 0 and 1\n",
        "precision_for_class_0 = metrics.precision(0)\n",
        "print(\"Precision for class 0 = %s\" % precision_for_class_0)\n",
        "\n",
        "\n",
        "precision_for_class_1 = metrics.precision(1)\n",
        "print(\"Precision for class 1 = %s\" % precision_for_class_1)"
      ],
      "metadata": {
        "colab": {
          "base_uri": "https://localhost:8080/"
        },
        "id": "EgiEjKsgudYt",
        "outputId": "23cede60-3e03-4b3d-f234-38dcf0315181"
      },
      "execution_count": 145,
      "outputs": [
        {
          "output_type": "stream",
          "name": "stdout",
          "text": [
            "Precision for class 0 = 0.8136853849014504\n",
            "Precision for class 1 = 0.7602639296187683\n"
          ]
        }
      ]
    },
    {
      "cell_type": "code",
      "source": [
        "# Precision\n",
        "precision = metrics.weightedPrecision\n",
        "print(\"Weighted Precision = %s\" % precision)"
      ],
      "metadata": {
        "colab": {
          "base_uri": "https://localhost:8080/"
        },
        "id": "qqw_SDXbu-FU",
        "outputId": "7823156e-ba87-4cc4-bbe2-f90fd82ce7ec"
      },
      "execution_count": 146,
      "outputs": [
        {
          "output_type": "stream",
          "name": "stdout",
          "text": [
            "Weighted Precision = 0.795983805879111\n"
          ]
        }
      ]
    },
    {
      "cell_type": "code",
      "source": [
        "### Recall ###\n",
        "\n",
        "# Recall for class 0\n",
        "recall_for_class_0 = metrics.recall(0)\n",
        "print(\"Recall for class 0 = %s\" % recall_for_class_0)\n",
        "\n",
        "# Recall for class 1\n",
        "recall_for_class_1 = metrics.recall(1)\n",
        "print(\"Recall for class 1 = %s\" % recall_for_class_1)\n",
        "\n",
        "# Weighted Recall\n",
        "recall = metrics.weightedRecall\n",
        "print(\"Weighted Recall = %s\" % recall)"
      ],
      "metadata": {
        "colab": {
          "base_uri": "https://localhost:8080/"
        },
        "id": "LzwNXQ2NufJg",
        "outputId": "bd007271-ada4-4259-d613-a885eeb64720"
      },
      "execution_count": 147,
      "outputs": [
        {
          "output_type": "stream",
          "name": "stdout",
          "text": [
            "Recall for class 0 = 0.9093931837073982\n",
            "Recall for class 1 = 0.5798154878389712\n",
            "Weighted Recall = 0.8001852709587772\n"
          ]
        }
      ]
    },
    {
      "cell_type": "code",
      "source": [
        "### F1 Score ###\n",
        "\n",
        "# F1 Score for class 0\n",
        "f1Score_for_class_0 = metrics.fMeasure(0.0)\n",
        "print(\"F1 Score for class 0 = %s\" % f1Score_for_class_0)\n",
        "\n",
        "# F1 Score for class 1\n",
        "f1Score_for_class_1 = metrics.fMeasure(1.0)\n",
        "print(\"F1 Score for class 1 = %s\" % f1Score_for_class_1)\n",
        "\n",
        "# Weighted F1 Score\n",
        "f1Score = metrics.weightedFMeasure()\n",
        "print(\"Weighted F1 Score = %s\" % f1Score)"
      ],
      "metadata": {
        "colab": {
          "base_uri": "https://localhost:8080/"
        },
        "id": "9_wXVymIwdw1",
        "outputId": "7414079d-c4db-44cd-9b0b-f02844338f05"
      },
      "execution_count": 148,
      "outputs": [
        {
          "output_type": "stream",
          "name": "stdout",
          "text": [
            "F1 Score for class 0 = 0.8588812561334641\n",
            "F1 Score for class 1 = 0.6578905630452022\n",
            "Weighted F1 Score = 0.792281560980457\n"
          ]
        }
      ]
    },
    {
      "cell_type": "markdown",
      "source": [
        "## Visualization <a name=\"visualization\"></a>"
      ],
      "metadata": {
        "id": "RQ4PsFZ8xCM7"
      }
    },
    {
      "cell_type": "markdown",
      "source": [
        "### Data Visualization during Preprocessing <a name=\"data-visualization-during-preprocessing\"></a>"
      ],
      "metadata": {
        "id": "MJxY0YNfxCdv"
      }
    },
    {
      "cell_type": "markdown",
      "source": [
        "Visualizations are useful during preprocessing to understand the distribution of data. For example, use a histogram to understand the distribution."
      ],
      "metadata": {
        "id": "VSQQ-PFzxciJ"
      }
    },
    {
      "cell_type": "code",
      "source": [
        "import matplotlib.pyplot as plt\n",
        "\n",
        "# Take a sample of the Spark DataFrame and convert it to a Pandas DataFrame for visualization\n",
        "df_sample = df.sample(False, 0.1)  # Change the fraction to adjust the size of the sample\n",
        "df_pandas = df_sample.toPandas()\n",
        "\n",
        "# Plot histogram of a numeric feature\n",
        "plt.hist(df_pandas['no_of_adults'], bins=30)\n",
        "plt.xlabel('Number of Adults')\n",
        "plt.ylabel('Frequency')\n",
        "plt.title('Distribution of Number of Adults')\n",
        "plt.show()\n"
      ],
      "metadata": {
        "colab": {
          "base_uri": "https://localhost:8080/",
          "height": 472
        },
        "id": "0AdRKipWxdcb",
        "outputId": "f0713d3d-cbf3-459b-d833-8d358b07acb7"
      },
      "execution_count": 149,
      "outputs": [
        {
          "output_type": "display_data",
          "data": {
            "text/plain": [
              "<Figure size 640x480 with 1 Axes>"
            ],
            "image/png": "[encoded data removed]"
          },
          "metadata": {}
        }
      ]
    },
    {
      "cell_type": "markdown",
      "source": [
        "### Data Visualization during Evaluation <a name=\"data-visualization-during-evaluation\"></a>"
      ],
      "metadata": {
        "id": "CopisOTUxCtS"
      }
    },
    {
      "cell_type": "markdown",
      "source": [
        "Visualizations are also useful during the evaluation phase. Can visualize the confusion matrix, or use a ROC curve to understand the trade-off between sensitivity and specificity."
      ],
      "metadata": {
        "id": "jzuKTVVd4A2z"
      }
    },
    {
      "cell_type": "code",
      "source": [
        "from sklearn.metrics import confusion_matrix\n",
        "import seaborn as sns"
      ],
      "metadata": {
        "id": "9PAlmcTn4Jik"
      },
      "execution_count": 150,
      "outputs": []
    },
    {
      "cell_type": "code",
      "source": [
        "# Convert Spark DataFrame to Pandas DataFrame for visualization\n",
        "predictions_pandas = predictions.select('label', 'prediction').toPandas()"
      ],
      "metadata": {
        "id": "Pl7yYEs65C6_"
      },
      "execution_count": 151,
      "outputs": []
    },
    {
      "cell_type": "code",
      "source": [
        "# Confusion Matrix\n",
        "cm = confusion_matrix(predictions_pandas['label'], predictions_pandas['prediction'])"
      ],
      "metadata": {
        "id": "5IZa0fH04m4A"
      },
      "execution_count": 152,
      "outputs": []
    },
    {
      "cell_type": "code",
      "source": [
        "# Plot Confusion Matrix as heatmap\n",
        "plt.figure(figsize=(10,7))\n",
        "sns.heatmap(cm, annot=True)\n",
        "plt.xlabel('Predicted')\n",
        "plt.ylabel('True')\n",
        "plt.title('Confusion Matrix')\n",
        "plt.show()"
      ],
      "metadata": {
        "colab": {
          "base_uri": "https://localhost:8080/",
          "height": 641
        },
        "id": "OMC1aTW_4pUm",
        "outputId": "2ed181ab-20cc-4541-ba7b-67ed3a8e2045"
      },
      "execution_count": 153,
      "outputs": [
        {
          "output_type": "display_data",
          "data": {
            "text/plain": [
              "<Figure size 1000x700 with 2 Axes>"
            ],
            "image/png": "[encoded data removed]"
          },
          "metadata": {}
        }
      ]
    },
    {
      "cell_type": "markdown",
      "source": [
        "#### ROC Curve <a name=\"roc-curve\"></a>"
      ],
      "metadata": {
        "id": "Fvy2AFA35-OJ"
      }
    },
    {
      "cell_type": "markdown",
      "source": [
        "\n",
        "The Receiver Operating Characteristic (ROC) curve is another common tool used with binary classifiers. The dotted line represents the ROC curve of a purely random classifier; a good classifier stays as far away from that line as possible (toward the top-left corner)."
      ],
      "metadata": {
        "id": "Lq6GxTY46CwN"
      }
    },
    {
      "cell_type": "code",
      "source": [
        "from pyspark.ml.evaluation import BinaryClassificationEvaluator"
      ],
      "metadata": {
        "id": "ceqGaj9M6Ky1"
      },
      "execution_count": 154,
      "outputs": []
    },
    {
      "cell_type": "code",
      "source": [
        "# Instantiate metrics object\n",
        "evaluator = BinaryClassificationEvaluator()"
      ],
      "metadata": {
        "id": "aiwBWCdY6N4z"
      },
      "execution_count": 155,
      "outputs": []
    },
    {
      "cell_type": "code",
      "source": [
        "# Compute Area Under ROC Curve (AUC) on the test set\n",
        "auc = evaluator.evaluate(predictions, {evaluator.metricName: \"areaUnderROC\"})\n",
        "print(f'Area Under ROC: {auc}')"
      ],
      "metadata": {
        "colab": {
          "base_uri": "https://localhost:8080/"
        },
        "id": "V9uj4RkP6RWf",
        "outputId": "b524a909-d7c3-4f90-a1cb-fc343e8e2b38"
      },
      "execution_count": 156,
      "outputs": [
        {
          "output_type": "stream",
          "name": "stdout",
          "text": [
            "Area Under ROC: 0.8532234435809639\n"
          ]
        }
      ]
    },
    {
      "cell_type": "markdown",
      "source": [
        "Visualization ROC"
      ],
      "metadata": {
        "id": "CBPnqXRR6lqr"
      }
    },
    {
      "cell_type": "code",
      "source": [
        "import pandas as pd\n",
        "from sklearn.metrics import roc_curve, auc\n",
        "\n",
        "# Get probabilities and true labels\n",
        "prob = predictions.select('probability').rdd.map(lambda row: row[0][1]).collect()\n",
        "labels = predictions.select('label').rdd.map(lambda row: row[0]).collect()"
      ],
      "metadata": {
        "id": "YvsWut656nLq"
      },
      "execution_count": 157,
      "outputs": []
    },
    {
      "cell_type": "code",
      "source": [
        "# Create a pandas DataFrame\n",
        "df = pd.DataFrame()\n",
        "df['prob'] = prob\n",
        "df['label'] = labels"
      ],
      "metadata": {
        "id": "t1vR5Hja6qJt"
      },
      "execution_count": 158,
      "outputs": []
    },
    {
      "cell_type": "code",
      "source": [
        "fpr, tpr, _ = roc_curve(df['label'], df['prob'])\n",
        "roc_auc = auc(fpr, tpr)"
      ],
      "metadata": {
        "id": "yr0I9qz46tB8"
      },
      "execution_count": 159,
      "outputs": []
    },
    {
      "cell_type": "markdown",
      "source": [
        "Finally can plot the ROC curve using matplotlib"
      ],
      "metadata": {
        "id": "Idyoz0qF6vmn"
      }
    },
    {
      "cell_type": "code",
      "source": [
        "import matplotlib.pyplot as plt\n",
        "\n",
        "plt.figure()\n",
        "lw = 2  # line width\n",
        "plt.plot(fpr, tpr, color='darkorange', lw=lw, label='ROC curve (area = %0.2f)' % roc_auc)\n",
        "plt.plot([0, 1], [0, 1], color='navy', lw=lw, linestyle='--')  # random prediction\n",
        "plt.xlim([0.0, 1.0])\n",
        "plt.ylim([0.0, 1.05])\n",
        "plt.xlabel('False Positive Rate')\n",
        "plt.ylabel('True Positive Rate')\n",
        "plt.title('Receiver operating characteristic')\n",
        "plt.legend(loc=\"lower right\")\n",
        "plt.show()"
      ],
      "metadata": {
        "colab": {
          "base_uri": "https://localhost:8080/",
          "height": 472
        },
        "id": "MrtM9XwF6wlK",
        "outputId": "3bd4a496-2d0a-4688-f415-8c34d669012b"
      },
      "execution_count": 160,
      "outputs": [
        {
          "output_type": "display_data",
          "data": {
            "text/plain": [
              "<Figure size 640x480 with 1 Axes>"
            ],
            "image/png": "[encoded data removed]"
          },
          "metadata": {}
        }
      ]
    },
    {
      "cell_type": "markdown",
      "source": [
        "## Conclusion <a name=\"conclusion\"></a>"
      ],
      "metadata": {
        "id": "Iap0nn1965Ds"
      }
    },
    {
      "cell_type": "markdown",
      "source": [
        "The purpose of this project was to develop a logistic regression model to predict hotel booking cancellations. The model's accuracy, precision, recall, and F1 score were used to evaluate its performance. These metrics showed that the model is capable of making reliable predictions.\n",
        "\n",
        "The best parameters for the logistic regression model were obtained through cross-validation and grid search, ensuring that the model was not overfitting the training data and could generalize well to unseen data.\n",
        "\n",
        "Feature importance was also investigated, providing insights into which factors were most influential in predicting hotel booking cancellations.\n",
        "\n",
        "The outcome of this project can be highly beneficial to hotel managers, as understanding the likelihood of booking cancellations can help better manage reservations and improve hotel operation efficiency."
      ],
      "metadata": {
        "id": "ipL85WiY66H9"
      }
    },
    {
      "cell_type": "markdown",
      "source": [
        "## Refrerence <a name=\"refrerence\"></a>"
      ],
      "metadata": {
        "id": "L9C1XACZ-fcH"
      }
    },
    {
      "cell_type": "markdown",
      "source": [
        "- Apache Spark. (n.d.). Apache Spark Documentation. https://spark.apache.org/docs/latest/index.html\n",
        "- Resource in class Big Data\n",
        "- Youtube\n",
        "- Stackoverflow\n",
        "- ChatGPT\n",
        "- And many more"
      ],
      "metadata": {
        "id": "jm5bsJO1-fw0"
      }
    }
  ]
}